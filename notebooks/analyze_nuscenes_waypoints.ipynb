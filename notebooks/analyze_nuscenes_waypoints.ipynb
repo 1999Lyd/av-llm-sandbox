{
 "cells": [
  {
   "cell_type": "markdown",
   "id": "e72756a1",
   "metadata": {},
   "source": [
    "# Basic test notebook for nuScenes"
   ]
  },
  {
   "cell_type": "code",
   "execution_count": null,
   "id": "4af11244",
   "metadata": {},
   "outputs": [],
   "source": [
    "from avapi.nuscenes import nuScenesManager\n",
    "\n",
    "\n",
    "# data_dir = \"/data/shared/nuScenes\"\n",
    "data_dir = \"/home/data/nuScenes\"\n",
    "NSM = nuScenesManager(data_dir=data_dir, split=\"v1.0-mini\")\n",
    "NDM = NSM.get_scene_dataset_by_index(0)  # get first scene"
   ]
  },
  {
   "cell_type": "markdown",
   "id": "a0c3fce9",
   "metadata": {},
   "source": [
    "## Show camera images"
   ]
  },
  {
   "cell_type": "code",
   "execution_count": null,
   "id": "1979e425",
   "metadata": {},
   "outputs": [],
   "source": [
    "# show a single image\n",
    "camera = \"CAM_FRONT\"\n",
    "frame_idx = 10\n",
    "frame = NDM.get_frames(sensor=camera)[frame_idx]\n",
    "img = NDM.get_image(frame=frame, sensor=camera)\n",
    "img.view()"
   ]
  },
  {
   "cell_type": "code",
   "execution_count": null,
   "id": "e4602c01",
   "metadata": {},
   "outputs": [],
   "source": [
    "# loop and show all images\n",
    "frame_idx = 10\n",
    "frame = NDM.get_frames(sensor=camera)[frame_idx]\n",
    "cameras = NDM.get_sensor_names_by_type(\"camera\")\n",
    "for cam in cameras:\n",
    "    print(f\"Showing {cam} camera\")\n",
    "    img = NDM.get_image(frame=frame, sensor=cam)\n",
    "    img.view()"
   ]
  },
  {
   "cell_type": "markdown",
   "id": "553e42f2",
   "metadata": {},
   "source": [
    "### Project object location onto image"
   ]
  },
  {
   "cell_type": "code",
   "execution_count": null,
   "id": "f3619cfc",
   "metadata": {},
   "outputs": [],
   "source": [
    "import numpy as np\n",
    "from avstack.geometry.transformations import project_to_image\n",
    "\n",
    "\n",
    "# get image\n",
    "camera = \"CAM_FRONT\"\n",
    "frame_idx = 10\n",
    "frame = NDM.get_frames(sensor=camera)[frame_idx]\n",
    "timestamp = NDM.get_timestamp(frame=frame, sensor=camera)\n",
    "img = NDM.get_image(frame=frame, sensor=camera)\n",
    "\n",
    "# get ego location in the future\n",
    "dt_futures = [2, 4, 6]\n",
    "positions_future = []\n",
    "centers_future = []\n",
    "boxes_future = []\n",
    "for dt in dt_futures:\n",
    "    # get the future frame\n",
    "    frame_future = NDM.get_frame_at_timestamp(\n",
    "        timestamp=timestamp + dt,\n",
    "        sensor=camera,\n",
    "        dt_tolerance=0.25,\n",
    "    )\n",
    "\n",
    "    # get the ego\n",
    "    ego_future = NDM.get_ego(frame=frame_future, agent=None)\n",
    "\n",
    "    # get boxes future (for debug)\n",
    "    box_future = ego_future.box.change_reference(img.reference, inplace=False)\n",
    "    boxes_future.append(box_future)\n",
    "\n",
    "    # get the future ego agent centers in the current frame\n",
    "    center_future = ego_future.box.center.change_reference(img.reference, inplace=False)\n",
    "    centers_future.append(center_future.x)\n",
    "\n",
    "    # get the future ego agent position in the current frame\n",
    "    position_future = ego_future.position.change_reference(img.reference, inplace=False)\n",
    "    positions_future.append(position_future.x)\n",
    "\n",
    "# get projection location onto the image\n",
    "positions_on_image = project_to_image(\n",
    "    pts_3d=np.array(positions_future),\n",
    "    P=img.calibration.P,\n",
    ")\n",
    "centers_on_image = project_to_image(\n",
    "    pts_3d=np.array(centers_future),\n",
    "    P=img.calibration.P,\n",
    ")\n",
    "print(\"Positions:\\n\", positions_on_image)\n",
    "print(\"Centers:\\n\", centers_on_image)"
   ]
  },
  {
   "cell_type": "code",
   "execution_count": null,
   "id": "782e80b7",
   "metadata": {},
   "outputs": [],
   "source": [
    "import cv2\n",
    "from avapi.visualize.snapshot import show_image, show_image_with_boxes\n",
    "\n",
    "\n",
    "# debug: show future boxes on image\n",
    "show_image_with_boxes(img, boxes=boxes_future, inline=True, show=True)\n",
    "\n",
    "# debug: show waypoints on image\n",
    "for point_set in [positions_on_image, centers_on_image]:\n",
    "    img_debug = img.rgb_image.copy()\n",
    "    for pt in point_set:\n",
    "        cv2.circle(\n",
    "            img_debug,\n",
    "            (int(pt[0]), int(pt[1])),\n",
    "            radius=20,\n",
    "            color=(255, 0, 0),\n",
    "            thickness=-1,\n",
    "        )\n",
    "    show_image(img_debug, inline=True)"
   ]
  }
 ],
 "metadata": {
  "kernelspec": {
   "display_name": ".venv",
   "language": "python",
   "name": "python3"
  },
  "language_info": {
   "codemirror_mode": {
    "name": "ipython",
    "version": 3
   },
   "file_extension": ".py",
   "mimetype": "text/x-python",
   "name": "python",
   "nbconvert_exporter": "python",
   "pygments_lexer": "ipython3",
   "version": "3.10.12"
  }
 },
 "nbformat": 4,
 "nbformat_minor": 5
}
