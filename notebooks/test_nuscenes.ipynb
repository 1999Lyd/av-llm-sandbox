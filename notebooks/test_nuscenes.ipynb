{
 "cells": [
  {
   "cell_type": "markdown",
   "id": "e72756a1",
   "metadata": {},
   "source": [
    "# Basic test notebook for nuScenes"
   ]
  },
  {
   "cell_type": "code",
   "execution_count": null,
   "id": "4af11244",
   "metadata": {},
   "outputs": [],
   "source": [
    "from avapi.nuscenes import nuScenesManager\n",
    "\n",
    "\n",
    "data_dir = \"/data/shared/nuScenes\"\n",
    "NSM = nuScenesManager(data_dir=data_dir, split=\"v1.0-mini\")\n",
    "NDM = NSM.get_scene_dataset_by_index(0)  # get first scene"
   ]
  },
  {
   "cell_type": "markdown",
   "id": "a0c3fce9",
   "metadata": {},
   "source": [
    "## Show camera images"
   ]
  },
  {
   "cell_type": "code",
   "execution_count": null,
   "id": "1979e425",
   "metadata": {},
   "outputs": [],
   "source": [
    "# show a single image\n",
    "camera = \"CAM_FRONT\"\n",
    "frame_idx = 10\n",
    "frame = NDM.get_frames(sensor=camera)[frame_idx]\n",
    "img = NDM.get_image(frame=frame, sensor=camera)\n",
    "img.view()"
   ]
  },
  {
   "cell_type": "code",
   "execution_count": null,
   "id": "e4602c01",
   "metadata": {},
   "outputs": [],
   "source": [
    "# loop and show all images\n",
    "frame_idx = 10\n",
    "frame = NDM.get_frames(sensor=camera)[frame_idx]\n",
    "cameras = NDM.get_sensor_names_by_type(\"camera\")\n",
    "for cam in cameras:\n",
    "    print(f\"Showing {cam} camera\")\n",
    "    img = NDM.get_image(frame=frame, sensor=cam)\n",
    "    img.view()"
   ]
  },
  {
   "cell_type": "markdown",
   "id": "372481b0",
   "metadata": {},
   "source": [
    "## Get trajectory"
   ]
  },
  {
   "cell_type": "code",
   "execution_count": null,
   "id": "e36e4ce6",
   "metadata": {},
   "outputs": [],
   "source": [
    "# current frame\n",
    "frame_idx = 10\n",
    "frame = NDM.get_frames(sensor=camera)[frame_idx]\n",
    "timestamp = NDM.get_timestamp(frame=frame)\n",
    "\n",
    "# get pose\n",
    "pose = NDM.get_ego(frame=frame)\n",
    "print(f\"Position in global coordinates: {pose.position.x}\")\n",
    "print(f\"Attitude in global coordinates: {pose.attitude.q}\")"
   ]
  },
  {
   "cell_type": "code",
   "execution_count": null,
   "id": "6d54b872",
   "metadata": {},
   "outputs": [],
   "source": [
    "import numpy as np\n",
    "import matplotlib.pyplot as plt\n",
    "\n",
    "\n",
    "# get trajectory and timestamps\n",
    "frames = NDM.get_frames(sensor=camera)\n",
    "ts_pose_tuple = [\n",
    "    (NDM.get_timestamp(frame=frame), NDM.get_ego(frame=frame)) for frame in frames\n",
    "]\n",
    "\n",
    "# plot trajectory, parametric and over time\n",
    "t = np.array([tsp[0] for tsp in ts_pose_tuple])\n",
    "xy = np.array([tsp[1].position.x[:2] for tsp in ts_pose_tuple])\n",
    "plt.plot(xy[:, 0], xy[:, 1])\n",
    "plt.title(\"Trajectory\")\n",
    "plt.xlabel(\"X Position\")\n",
    "plt.ylabel(\"Y Position\")\n",
    "plt.grid()\n",
    "plt.show()"
   ]
  }
 ],
 "metadata": {
  "kernelspec": {
   "display_name": ".venv",
   "language": "python",
   "name": "python3"
  },
  "language_info": {
   "codemirror_mode": {
    "name": "ipython",
    "version": 3
   },
   "file_extension": ".py",
   "mimetype": "text/x-python",
   "name": "python",
   "nbconvert_exporter": "python",
   "pygments_lexer": "ipython3",
   "version": "3.10.12"
  }
 },
 "nbformat": 4,
 "nbformat_minor": 5
}
