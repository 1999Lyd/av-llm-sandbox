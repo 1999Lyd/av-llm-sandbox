{
 "cells": [
  {
   "cell_type": "code",
   "execution_count": null,
   "metadata": {},
   "outputs": [],
   "source": [
    "import json\n",
    "\n",
    "\n",
    "\n",
    "# load the dataset\n",
    "json_path = '../scripts/dataset_train.json'\n",
    "with open(json_path, 'r') as file:\n",
    "    index_dict = json.load(file)\n",
    "dataset = index_dict['dataset']\n",
    "\n",
    "\n",
    "# flatten to 1-d for indexing\n",
    "dataset_flat = [\n",
    "    frame\n",
    "    for scene in dataset.values()\n",
    "    for agent in scene.values()\n",
    "    for frame in agent.values()\n",
    "]"
   ]
  },
  {
   "cell_type": "code",
   "execution_count": null,
   "metadata": {},
   "outputs": [],
   "source": [
    "dataset_flat[idx]"
   ]
  },
  {
   "cell_type": "code",
   "execution_count": null,
   "metadata": {},
   "outputs": [],
   "source": [
    "# investigate the speed in some frames\n",
    "idx = 10\n",
    "veloc = dataset_flat[idx][\"agent_state\"][\"global\"][\"velocity\"]\n",
    "speed = dataset_flat[idx][\"agent_state\"][\"global\"][\"speed\"]\n",
    "waypoints_3d = dataset_flat[idx][\"waypoints_3d\"]\n",
    "waypoints_bev = [(round(pt[0], 1), round(pt[1], 1), round(pt[2], 1)) for pt in waypoints_3d.values()]\n",
    "\n",
    "# print results\n",
    "print(f\"Velo: {veloc}\")\n",
    "print(f\"Speed: {speed:.1f}\")\n",
    "print(f\"Waypoints BEV: {waypoints_bev}\")"
   ]
  },
  {
   "cell_type": "code",
   "execution_count": null,
   "metadata": {},
   "outputs": [],
   "source": [
    "from avapi.nuscenes import nuScenesManager\n",
    "\n",
    "\n",
    "data_dir = \"/home/data/nuScenes\"\n",
    "NSM = nuScenesManager(data_dir)\n",
    "NDM = NSM.get_scene_dataset_by_index(0)"
   ]
  },
  {
   "cell_type": "code",
   "execution_count": null,
   "metadata": {},
   "outputs": [],
   "source": [
    "import numpy as np\n",
    "\n",
    "\n",
    "frame = 10\n",
    "frame_vp = np.argmin(\n",
    "    abs(NDM.vehicle_pose_utime - NDM.get_timestamp(frame, utime=True))\n",
    ")\n",
    "vp = NDM.vehicle_pose[frame_vp]"
   ]
  },
  {
   "cell_type": "code",
   "execution_count": null,
   "metadata": {},
   "outputs": [],
   "source": [
    "NDM.get_timestamp(frame, utime=True)"
   ]
  },
  {
   "cell_type": "code",
   "execution_count": null,
   "metadata": {},
   "outputs": [],
   "source": [
    "NDM.vehicle_pose_utime"
   ]
  },
  {
   "cell_type": "code",
   "execution_count": null,
   "metadata": {},
   "outputs": [],
   "source": []
  }
 ],
 "metadata": {
  "kernelspec": {
   "display_name": ".venv",
   "language": "python",
   "name": "python3"
  },
  "language_info": {
   "codemirror_mode": {
    "name": "ipython",
    "version": 3
   },
   "file_extension": ".py",
   "mimetype": "text/x-python",
   "name": "python",
   "nbconvert_exporter": "python",
   "pygments_lexer": "ipython3",
   "version": "3.10.12"
  }
 },
 "nbformat": 4,
 "nbformat_minor": 2
}
